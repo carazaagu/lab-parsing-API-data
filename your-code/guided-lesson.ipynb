{
 "cells": [
  {
   "cell_type": "markdown",
   "metadata": {},
   "source": [
    "# Parsing APIs Example"
   ]
  },
  {
   "cell_type": "markdown",
   "metadata": {},
   "source": [
    "## Intro\n",
    "\n",
    "Now we will take a look on a real data. When you parse data from web you will often meet API based web-pages. \n",
    "\n",
    "For example [zalando.fr](https://www.zalando.fr/accueil-homme/) is API based web-page. \n",
    "\n",
    "In this guided lab you will learn how to obtain the links from webpages and extract the data. Read through this doc, execute the cells in order and make sure you understand the explanations. \n",
    "\n",
    "*Note: This guided lab uses Google Chrome. Other browsers like Safari and Firefox have similar tools for developers but they work differently. To save your time in following this lab, it is strongly recommended that you install and use Google Chrome.*"
   ]
  },
  {
   "cell_type": "markdown",
   "metadata": {},
   "source": [
    "## Obtaining the link\n",
    "\n",
    "Zalando is discount e-store where you can buy clothes and accesories with discount. When we go to the web-page, we can choose different sections. First the general process will be shown using [Children section](https://www.zalando.fr/accueil-enfant/) as example.\n",
    "\n",
    "Here we will parse data about promotions only. Therefore, final output will be the DataFrame with all the goods under discount.\n",
    "\n",
    "[![Image from Gyazo](https://i.gyazo.com/fa4874d8e81c7570273bbfb853d66308.png)](https://gyazo.com/fa4874d8e81c7570273bbfb853d66308)\n",
    "\n",
    "\n",
    "We go to Promos page. Right click of mouse shows us a list of actions possible, from which we select Inspect.\n",
    "\n",
    "<img src='https://i.gyazo.com/bccbd11d69c9040dc98758d443e32052.png' width=\"400\">\n",
    "\n",
    "\n",
    "You will see the menu dropdown on the right side or on the bottom of the window. There you should click on Network:\n",
    "\n",
    "\n",
    "[![Image from Gyazo](https://i.gyazo.com/f7e0db81cbfee67694183d1a7640bf81.png)](https://gyazo.com/f7e0db81cbfee67694183d1a7640bf81)"
   ]
  },
  {
   "cell_type": "markdown",
   "metadata": {},
   "source": [
    "Right after the developer part will change showing the files behind the page. In order to obtain only useful files we select the following settings:\n",
    "1. Preserve Log\n",
    "2. Select XHR files.\n",
    "\n",
    "[![Image from Gyazo](https://i.gyazo.com/9a899d4441d9d93e795f79747f1e47d5.png)](https://gyazo.com/9a899d4441d9d93e795f79747f1e47d5)\n",
    "\n",
    "In order to obtain some files we need to scrool down and go forward to second page. \n",
    "\n",
    "[![Image from Gyazo](https://i.gyazo.com/0956eb3d5125075a236c9a439c7749c7.png)](https://gyazo.com/0956eb3d5125075a236c9a439c7749c7)\n",
    "\n",
    "In the Network panel you can see the following files being uploaded. All the data on the web-page is uploaded from the json file, which is one of the following. It is important to understand which file contains what kind of information. \n",
    "\n",
    "<a href=\"https://gyazo.com/cf97a655869f0b22df0ada1cb2a41c3c\"><img src=\"https://i.gyazo.com/cf97a655869f0b22df0ada1cb2a41c3c.png\" alt=\"Image from Gyazo\" width=\"724.8\"/></a>\n",
    "\n",
    "When you find what kind of information you need for the data to be uploaded you just test it. Here we need the article... file:\n",
    "\n",
    "<a href=\"https://gyazo.com/78b35bf492994b3f35c0564a21da202a\"><img src=\"https://i.gyazo.com/78b35bf492994b3f35c0564a21da202a.png\" alt=\"Image from Gyazo\" width=\"727.2\"/></a>\n",
    "\n",
    "When we test the link in Chrome inkognito mode we obtain the proper json file:\n",
    "\n",
    "\n",
    "<a href=\"https://gyazo.com/b60453fa98454fa29771c731a5174443\"><img src=\"https://i.gyazo.com/b60453fa98454fa29771c731a5174443.png\" alt=\"Image from Gyazo\" width=\"1530.4\"/></a>"
   ]
  },
  {
   "cell_type": "markdown",
   "metadata": {},
   "source": [
    "In order to change the objects in the json file (kind of pagination), you need to change the offset (the number of the first element on the page). in fact, if you take a look on the link, it is easy to unerstand the structure of the link.\n",
    "\n",
    "# Reading the data\n",
    "\n",
    "Now the party rocks! When we know how can we obtain the data, it is not a problem to obtain the whole database with all the data from the web-page.\n",
    "In this lab you will collect your database of Zalando products. You select which goods you want to track. You can define as many filters to your data as you want. Just make sure that the data represents the filters.\n",
    "\n",
    "\n"
   ]
  },
  {
   "cell_type": "code",
   "execution_count": 1,
   "metadata": {},
   "outputs": [],
   "source": [
    "import json\n",
    "import requests\n",
    "import pandas as pd\n",
    "from pandas.io.json import json_normalize\n"
   ]
  },
  {
   "cell_type": "code",
   "execution_count": 2,
   "metadata": {},
   "outputs": [],
   "source": [
    "# paste the url you obtained for your data\n",
    "url='https://www.zalando.fr/api/catalog/articles?categories=promo-enfant&limit=84&offset=0'\n"
   ]
  },
  {
   "cell_type": "code",
   "execution_count": 3,
   "metadata": {},
   "outputs": [],
   "source": [
    "# create the headers with the User Agent in order to be able to do the requests.get\n",
    "headers = {'User-Agent' : 'Mozilla/5.0 (Windows NT 10.0; Win64; x64; rv:87.0) Gecko/20100101 Firefox/87.0'}"
   ]
  },
  {
   "cell_type": "code",
   "execution_count": 4,
   "metadata": {},
   "outputs": [],
   "source": [
    "# encapsulate the information\n",
    "zalando1 = requests.get(url, headers=headers).json()"
   ]
  },
  {
   "cell_type": "markdown",
   "metadata": {},
   "source": [
    "#### Collect first 84 object of the of the data (1st page)\n",
    "\n",
    "Your output should be a Pandas DataFrame of goods. Each row should contain only text or numbers, having *family_articles, flags, media* and *sizes* remaining lists (they are exceptions). Hint: use the headers parameter to get the data!"
   ]
  },
  {
   "cell_type": "code",
   "execution_count": 5,
   "metadata": {
    "collapsed": true
   },
   "outputs": [],
   "source": [
    "# create a dataframe with the articles of the first page\n",
    "articles = pd.DataFrame(zalando1['articles'])"
   ]
  },
  {
   "cell_type": "code",
   "execution_count": 6,
   "metadata": {},
   "outputs": [
    {
     "output_type": "execute_result",
     "data": {
      "text/plain": [
       "             sku                                               name  \\\n",
       "0  NI113D0A6-Q11   AIR MAX 90 UNISEX - Baskets basses - black/white   \n",
       "1  NI114D07I-Q12  AIR MAX 270  - Baskets basses - black/anthraci...   \n",
       "2  NI114D0AC-A11  AIR MAX 270 UNISEX - Baskets basses - white/mt...   \n",
       "3  TH343D006-Q11  YOUTH EASY UNISEX - T-shirt imprimé - black/white   \n",
       "4  TH343D005-Q12       SIMPLE DOME UNISEX - T-shirt basique - black   \n",
       "\n",
       "                                               price  \\\n",
       "0  {'original': '59,95  €', 'promotional': '50,95...   \n",
       "1  {'original': '84,95  €', 'promotional': '76,45...   \n",
       "2  {'original': '84,95  €', 'promotional': '76,45...   \n",
       "3  {'original': '15,95  €', 'promotional': '13,55...   \n",
       "4  {'original': '19,95  €', 'promotional': '15,95...   \n",
       "\n",
       "                                               sizes  \\\n",
       "0                     [17, 18.5, 19.5, 21, 22, 23.5]   \n",
       "1  [27.5, 28, 28.5, 29.5, 30, 31, 31.5, 32, 33, 3...   \n",
       "2  [27.5, 28, 28.5, 29.5, 30, 31, 31.5, 32, 33, 3...   \n",
       "3          [10a/12a, 12a/14a, 16a/18a, 5a/6a, 7a/8a]   \n",
       "4          [10a/12a, 12a/14a, 16a/18a, 5a/6a, 7a/8a]   \n",
       "\n",
       "                                             url_key  \\\n",
       "0  nike-sportswear-nike-air-max-90-ltr-baskets-ba...   \n",
       "1  nike-sportswear-air-max-270-baskets-basses-ni1...   \n",
       "2  nike-sportswear-air-max-270-baskets-basses-ni1...   \n",
       "3  the-north-face-easy-tee-t-shirt-imprime-th343d...   \n",
       "4  the-north-face-simple-dome-t-shirt-imprime-th3...   \n",
       "\n",
       "                                               media       brand_name  \\\n",
       "0  [{'path': 'spp-media-p1/59cf7517d4473bdd8c4014...  Nike Sportswear   \n",
       "1  [{'path': 'spp-media-p1/7d0a21c70a343986a8d2d7...  Nike Sportswear   \n",
       "2  [{'path': 'spp-media-p1/b8faa185fefb363daeac6f...  Nike Sportswear   \n",
       "3  [{'path': 'spp-media-p1/1ac794192906396da52369...   The North Face   \n",
       "4  [{'path': 'spp-media-p1/7a8bf28e74e9324e80f46b...   The North Face   \n",
       "\n",
       "   is_premium                                    family_articles  \\\n",
       "0       False  [{'sku': 'NI113D0A6-Q11', 'url_key': 'nike-spo...   \n",
       "1       False  [{'sku': 'NI114D07I-Q12', 'url_key': 'nike-spo...   \n",
       "2       False  [{'sku': 'NI114D0AC-A11', 'url_key': 'nike-spo...   \n",
       "3       False  [{'sku': 'TH343D006-Q11', 'url_key': 'the-nort...   \n",
       "4       False  [{'sku': 'TH343D005-Q12', 'url_key': 'the-nort...   \n",
       "\n",
       "                                               flags  \\\n",
       "0  [{'key': 'discountRate', 'value': '-15%', 'tra...   \n",
       "1  [{'key': 'discountRate', 'value': 'Jusqu’à -10...   \n",
       "2  [{'key': 'discountRate', 'value': '-10%', 'tra...   \n",
       "3  [{'key': 'discountRate', 'value': '-15%', 'tra...   \n",
       "4  [{'key': 'discountRate', 'value': '-20%', 'tra...   \n",
       "\n",
       "                                tracking_information product_group  \\\n",
       "0  {'metrigo_impression_urls': ['https://ccp-et.a...          shoe   \n",
       "1  {'metrigo_impression_urls': ['https://ccp-et.a...          shoe   \n",
       "2  {'metrigo_impression_urls': ['https://ccp-et.a...          shoe   \n",
       "3                                                NaN      clothing   \n",
       "4                                                NaN      clothing   \n",
       "\n",
       "  delivery_promises amount  \n",
       "0                []    NaN  \n",
       "1                []    NaN  \n",
       "2                []    NaN  \n",
       "3                []    NaN  \n",
       "4                []    NaN  "
      ],
      "text/html": "<div>\n<style scoped>\n    .dataframe tbody tr th:only-of-type {\n        vertical-align: middle;\n    }\n\n    .dataframe tbody tr th {\n        vertical-align: top;\n    }\n\n    .dataframe thead th {\n        text-align: right;\n    }\n</style>\n<table border=\"1\" class=\"dataframe\">\n  <thead>\n    <tr style=\"text-align: right;\">\n      <th></th>\n      <th>sku</th>\n      <th>name</th>\n      <th>price</th>\n      <th>sizes</th>\n      <th>url_key</th>\n      <th>media</th>\n      <th>brand_name</th>\n      <th>is_premium</th>\n      <th>family_articles</th>\n      <th>flags</th>\n      <th>tracking_information</th>\n      <th>product_group</th>\n      <th>delivery_promises</th>\n      <th>amount</th>\n    </tr>\n  </thead>\n  <tbody>\n    <tr>\n      <th>0</th>\n      <td>NI113D0A6-Q11</td>\n      <td>AIR MAX 90 UNISEX - Baskets basses - black/white</td>\n      <td>{'original': '59,95  €', 'promotional': '50,95...</td>\n      <td>[17, 18.5, 19.5, 21, 22, 23.5]</td>\n      <td>nike-sportswear-nike-air-max-90-ltr-baskets-ba...</td>\n      <td>[{'path': 'spp-media-p1/59cf7517d4473bdd8c4014...</td>\n      <td>Nike Sportswear</td>\n      <td>False</td>\n      <td>[{'sku': 'NI113D0A6-Q11', 'url_key': 'nike-spo...</td>\n      <td>[{'key': 'discountRate', 'value': '-15%', 'tra...</td>\n      <td>{'metrigo_impression_urls': ['https://ccp-et.a...</td>\n      <td>shoe</td>\n      <td>[]</td>\n      <td>NaN</td>\n    </tr>\n    <tr>\n      <th>1</th>\n      <td>NI114D07I-Q12</td>\n      <td>AIR MAX 270  - Baskets basses - black/anthraci...</td>\n      <td>{'original': '84,95  €', 'promotional': '76,45...</td>\n      <td>[27.5, 28, 28.5, 29.5, 30, 31, 31.5, 32, 33, 3...</td>\n      <td>nike-sportswear-air-max-270-baskets-basses-ni1...</td>\n      <td>[{'path': 'spp-media-p1/7d0a21c70a343986a8d2d7...</td>\n      <td>Nike Sportswear</td>\n      <td>False</td>\n      <td>[{'sku': 'NI114D07I-Q12', 'url_key': 'nike-spo...</td>\n      <td>[{'key': 'discountRate', 'value': 'Jusqu’à -10...</td>\n      <td>{'metrigo_impression_urls': ['https://ccp-et.a...</td>\n      <td>shoe</td>\n      <td>[]</td>\n      <td>NaN</td>\n    </tr>\n    <tr>\n      <th>2</th>\n      <td>NI114D0AC-A11</td>\n      <td>AIR MAX 270 UNISEX - Baskets basses - white/mt...</td>\n      <td>{'original': '84,95  €', 'promotional': '76,45...</td>\n      <td>[27.5, 28, 28.5, 29.5, 30, 31, 31.5, 32, 33, 3...</td>\n      <td>nike-sportswear-air-max-270-baskets-basses-ni1...</td>\n      <td>[{'path': 'spp-media-p1/b8faa185fefb363daeac6f...</td>\n      <td>Nike Sportswear</td>\n      <td>False</td>\n      <td>[{'sku': 'NI114D0AC-A11', 'url_key': 'nike-spo...</td>\n      <td>[{'key': 'discountRate', 'value': '-10%', 'tra...</td>\n      <td>{'metrigo_impression_urls': ['https://ccp-et.a...</td>\n      <td>shoe</td>\n      <td>[]</td>\n      <td>NaN</td>\n    </tr>\n    <tr>\n      <th>3</th>\n      <td>TH343D006-Q11</td>\n      <td>YOUTH EASY UNISEX - T-shirt imprimé - black/white</td>\n      <td>{'original': '15,95  €', 'promotional': '13,55...</td>\n      <td>[10a/12a, 12a/14a, 16a/18a, 5a/6a, 7a/8a]</td>\n      <td>the-north-face-easy-tee-t-shirt-imprime-th343d...</td>\n      <td>[{'path': 'spp-media-p1/1ac794192906396da52369...</td>\n      <td>The North Face</td>\n      <td>False</td>\n      <td>[{'sku': 'TH343D006-Q11', 'url_key': 'the-nort...</td>\n      <td>[{'key': 'discountRate', 'value': '-15%', 'tra...</td>\n      <td>NaN</td>\n      <td>clothing</td>\n      <td>[]</td>\n      <td>NaN</td>\n    </tr>\n    <tr>\n      <th>4</th>\n      <td>TH343D005-Q12</td>\n      <td>SIMPLE DOME UNISEX - T-shirt basique - black</td>\n      <td>{'original': '19,95  €', 'promotional': '15,95...</td>\n      <td>[10a/12a, 12a/14a, 16a/18a, 5a/6a, 7a/8a]</td>\n      <td>the-north-face-simple-dome-t-shirt-imprime-th3...</td>\n      <td>[{'path': 'spp-media-p1/7a8bf28e74e9324e80f46b...</td>\n      <td>The North Face</td>\n      <td>False</td>\n      <td>[{'sku': 'TH343D005-Q12', 'url_key': 'the-nort...</td>\n      <td>[{'key': 'discountRate', 'value': '-20%', 'tra...</td>\n      <td>NaN</td>\n      <td>clothing</td>\n      <td>[]</td>\n      <td>NaN</td>\n    </tr>\n  </tbody>\n</table>\n</div>"
     },
     "metadata": {},
     "execution_count": 6
    }
   ],
   "source": [
    "# check if the DataFrame has been loaded correctly\n",
    "articles.head(5)"
   ]
  },
  {
   "cell_type": "code",
   "execution_count": 7,
   "metadata": {},
   "outputs": [
    {
     "output_type": "execute_result",
     "data": {
      "text/plain": [
       "84"
      ]
     },
     "metadata": {},
     "execution_count": 7
    }
   ],
   "source": [
    "# check if the nº of articles is 84\n",
    "len(articles)"
   ]
  },
  {
   "cell_type": "markdown",
   "metadata": {},
   "source": [
    "#### Collect all the objects from selected filters. Total number of pages can be found in the same json. Use *sku* column as index.\n",
    "\n",
    "Your output should be a Pandas DataFrame of goods. Each row should contain only text or numbers, having family_articles, flags, media and sizes remaining lists (they are exceptions)."
   ]
  },
  {
   "cell_type": "code",
   "execution_count": 8,
   "metadata": {},
   "outputs": [],
   "source": [
    "# to collect all the pages:\n",
    "# Step 1: create an empty list\n",
    "# Step 2: make a for loop with a range of the total number of pages\n",
    "# Step 3: get the url of every page and obtain its articles and append them into the empty list\n",
    "articles_total = []\n",
    "for i in range(1, zalando1['pagination']['page_count'] + 1):\n",
    "    zalando_total = requests.get(url, headers=headers, params={'current_page':i}).json()\n",
    "    articles_total.extend(zalando_total['articles'])"
   ]
  },
  {
   "cell_type": "code",
   "execution_count": 9,
   "metadata": {},
   "outputs": [
    {
     "output_type": "execute_result",
     "data": {
      "text/plain": [
       "19992"
      ]
     },
     "metadata": {},
     "execution_count": 9
    }
   ],
   "source": [
    "# check the total number of articles\n",
    "len(articles_total)"
   ]
  },
  {
   "cell_type": "code",
   "execution_count": 10,
   "metadata": {},
   "outputs": [],
   "source": [
    "# create a dataframe with the articles of all pages\n",
    "zalando2 = pd.DataFrame(articles_total)"
   ]
  },
  {
   "cell_type": "code",
   "execution_count": 11,
   "metadata": {},
   "outputs": [],
   "source": [
    "# set sku column as index\n",
    "zalando2.set_index('sku', inplace = True)"
   ]
  },
  {
   "cell_type": "code",
   "execution_count": 25,
   "metadata": {},
   "outputs": [
    {
     "output_type": "execute_result",
     "data": {
      "text/plain": [
       "                                                            name  \\\n",
       "sku                                                                \n",
       "TH343D006-Q11  YOUTH EASY UNISEX - T-shirt imprimé - black/white   \n",
       "TH343D005-Q12       SIMPLE DOME UNISEX - T-shirt basique - black   \n",
       "LE226G005-A11              BATWING TEE - T-shirt imprimé - white   \n",
       "N1243A113-Q11  REVOLUTION 5 UNISEX - Chaussures de running ne...   \n",
       "JAN24B004-Q11                             Pantalon cargo - black   \n",
       "\n",
       "                                                           price  \\\n",
       "sku                                                                \n",
       "TH343D006-Q11  {'original': '15,95  €', 'promotional': '13,55...   \n",
       "TH343D005-Q12  {'original': '19,95  €', 'promotional': '15,95...   \n",
       "LE226G005-A11  {'original': '17,95  €', 'promotional': '15,25...   \n",
       "N1243A113-Q11  {'original': '37,95  €', 'promotional': '30,35...   \n",
       "JAN24B004-Q11  {'original': '49,95  €', 'promotional': '34,95...   \n",
       "\n",
       "                                                           sizes  \\\n",
       "sku                                                                \n",
       "TH343D006-Q11          [10a/12a, 12a/14a, 16a/18a, 5a/6a, 7a/8a]   \n",
       "TH343D005-Q12          [10a/12a, 12a/14a, 16a/18a, 5a/6a, 7a/8a]   \n",
       "LE226G005-A11       [2a, 3a, 4a, 5a, 6a, 8a, 10a, 12a, 14a, 16a]   \n",
       "N1243A113-Q11  [27.5, 28, 28.5, 29.5, 30, 31, 31.5, 32, 33, 3...   \n",
       "JAN24B004-Q11        [8a, 9a, 10a, 11a, 12a, 13a, 14a, 15a, 16a]   \n",
       "\n",
       "                                                         url_key  \\\n",
       "sku                                                                \n",
       "TH343D006-Q11  the-north-face-easy-tee-t-shirt-imprime-th343d...   \n",
       "TH343D005-Q12  the-north-face-simple-dome-t-shirt-imprime-th3...   \n",
       "LE226G005-A11         levisr-t-shirt-imprime-white-le226g005-a11   \n",
       "N1243A113-Q11  nike-performance-revolution-5-chaussures-de-ru...   \n",
       "JAN24B004-Q11  jackandjones-junior-pantalon-cargo-black-jan24...   \n",
       "\n",
       "                                                           media  \\\n",
       "sku                                                                \n",
       "TH343D006-Q11  [{'path': 'spp-media-p1/1ac794192906396da52369...   \n",
       "TH343D005-Q12  [{'path': 'spp-media-p1/7a8bf28e74e9324e80f46b...   \n",
       "LE226G005-A11  [{'path': 'spp-media-p1/8d33b25d4a1b3a718e588e...   \n",
       "N1243A113-Q11  [{'path': 'spp-media-p1/ef91b309eef63df2966125...   \n",
       "JAN24B004-Q11  [{'path': 'spp-media-p1/6272154bdaec3231bf44b9...   \n",
       "\n",
       "                        brand_name  is_premium  \\\n",
       "sku                                              \n",
       "TH343D006-Q11       The North Face       False   \n",
       "TH343D005-Q12       The North Face       False   \n",
       "LE226G005-A11              Levi's®       False   \n",
       "N1243A113-Q11     Nike Performance       False   \n",
       "JAN24B004-Q11  Jack & Jones Junior       False   \n",
       "\n",
       "                                                 family_articles  \\\n",
       "sku                                                                \n",
       "TH343D006-Q11  [{'sku': 'TH343D006-Q11', 'url_key': 'the-nort...   \n",
       "TH343D005-Q12  [{'sku': 'TH343D005-Q12', 'url_key': 'the-nort...   \n",
       "LE226G005-A11  [{'sku': 'LE226G005-A11', 'url_key': 'levisr-t...   \n",
       "N1243A113-Q11  [{'sku': 'N1243A113-Q11', 'url_key': 'nike-per...   \n",
       "JAN24B004-Q11  [{'sku': 'JAN24B004-Q11', 'url_key': 'jackandj...   \n",
       "\n",
       "                                                           flags  \\\n",
       "sku                                                                \n",
       "TH343D006-Q11  [{'key': 'discountRate', 'value': '-15%', 'tra...   \n",
       "TH343D005-Q12  [{'key': 'discountRate', 'value': '-20%', 'tra...   \n",
       "LE226G005-A11  [{'key': 'discountRate', 'value': '-15%', 'tra...   \n",
       "N1243A113-Q11  [{'key': 'discountRate', 'value': '-20%', 'tra...   \n",
       "JAN24B004-Q11  [{'key': 'discountRate', 'value': '-30%', 'tra...   \n",
       "\n",
       "              product_group delivery_promises amount tracking_information  \\\n",
       "sku                                                                         \n",
       "TH343D006-Q11      clothing                []    NaN                  NaN   \n",
       "TH343D005-Q12      clothing                []    NaN                  NaN   \n",
       "LE226G005-A11      clothing                []    NaN                  NaN   \n",
       "N1243A113-Q11          shoe                []  171 g                  NaN   \n",
       "JAN24B004-Q11      clothing                []    NaN                  NaN   \n",
       "\n",
       "               original_price  promo_price  discount  \n",
       "sku                                                   \n",
       "TH343D006-Q11           15.95        13.55       2.4  \n",
       "TH343D005-Q12           19.95        15.95       4.0  \n",
       "LE226G005-A11           17.95        15.25       2.7  \n",
       "N1243A113-Q11           37.95        30.35       7.6  \n",
       "JAN24B004-Q11           49.95        34.95      15.0  "
      ],
      "text/html": "<div>\n<style scoped>\n    .dataframe tbody tr th:only-of-type {\n        vertical-align: middle;\n    }\n\n    .dataframe tbody tr th {\n        vertical-align: top;\n    }\n\n    .dataframe thead th {\n        text-align: right;\n    }\n</style>\n<table border=\"1\" class=\"dataframe\">\n  <thead>\n    <tr style=\"text-align: right;\">\n      <th></th>\n      <th>name</th>\n      <th>price</th>\n      <th>sizes</th>\n      <th>url_key</th>\n      <th>media</th>\n      <th>brand_name</th>\n      <th>is_premium</th>\n      <th>family_articles</th>\n      <th>flags</th>\n      <th>product_group</th>\n      <th>delivery_promises</th>\n      <th>amount</th>\n      <th>tracking_information</th>\n      <th>original_price</th>\n      <th>promo_price</th>\n      <th>discount</th>\n    </tr>\n    <tr>\n      <th>sku</th>\n      <th></th>\n      <th></th>\n      <th></th>\n      <th></th>\n      <th></th>\n      <th></th>\n      <th></th>\n      <th></th>\n      <th></th>\n      <th></th>\n      <th></th>\n      <th></th>\n      <th></th>\n      <th></th>\n      <th></th>\n      <th></th>\n    </tr>\n  </thead>\n  <tbody>\n    <tr>\n      <th>TH343D006-Q11</th>\n      <td>YOUTH EASY UNISEX - T-shirt imprimé - black/white</td>\n      <td>{'original': '15,95  €', 'promotional': '13,55...</td>\n      <td>[10a/12a, 12a/14a, 16a/18a, 5a/6a, 7a/8a]</td>\n      <td>the-north-face-easy-tee-t-shirt-imprime-th343d...</td>\n      <td>[{'path': 'spp-media-p1/1ac794192906396da52369...</td>\n      <td>The North Face</td>\n      <td>False</td>\n      <td>[{'sku': 'TH343D006-Q11', 'url_key': 'the-nort...</td>\n      <td>[{'key': 'discountRate', 'value': '-15%', 'tra...</td>\n      <td>clothing</td>\n      <td>[]</td>\n      <td>NaN</td>\n      <td>NaN</td>\n      <td>15.95</td>\n      <td>13.55</td>\n      <td>2.4</td>\n    </tr>\n    <tr>\n      <th>TH343D005-Q12</th>\n      <td>SIMPLE DOME UNISEX - T-shirt basique - black</td>\n      <td>{'original': '19,95  €', 'promotional': '15,95...</td>\n      <td>[10a/12a, 12a/14a, 16a/18a, 5a/6a, 7a/8a]</td>\n      <td>the-north-face-simple-dome-t-shirt-imprime-th3...</td>\n      <td>[{'path': 'spp-media-p1/7a8bf28e74e9324e80f46b...</td>\n      <td>The North Face</td>\n      <td>False</td>\n      <td>[{'sku': 'TH343D005-Q12', 'url_key': 'the-nort...</td>\n      <td>[{'key': 'discountRate', 'value': '-20%', 'tra...</td>\n      <td>clothing</td>\n      <td>[]</td>\n      <td>NaN</td>\n      <td>NaN</td>\n      <td>19.95</td>\n      <td>15.95</td>\n      <td>4.0</td>\n    </tr>\n    <tr>\n      <th>LE226G005-A11</th>\n      <td>BATWING TEE - T-shirt imprimé - white</td>\n      <td>{'original': '17,95  €', 'promotional': '15,25...</td>\n      <td>[2a, 3a, 4a, 5a, 6a, 8a, 10a, 12a, 14a, 16a]</td>\n      <td>levisr-t-shirt-imprime-white-le226g005-a11</td>\n      <td>[{'path': 'spp-media-p1/8d33b25d4a1b3a718e588e...</td>\n      <td>Levi's®</td>\n      <td>False</td>\n      <td>[{'sku': 'LE226G005-A11', 'url_key': 'levisr-t...</td>\n      <td>[{'key': 'discountRate', 'value': '-15%', 'tra...</td>\n      <td>clothing</td>\n      <td>[]</td>\n      <td>NaN</td>\n      <td>NaN</td>\n      <td>17.95</td>\n      <td>15.25</td>\n      <td>2.7</td>\n    </tr>\n    <tr>\n      <th>N1243A113-Q11</th>\n      <td>REVOLUTION 5 UNISEX - Chaussures de running ne...</td>\n      <td>{'original': '37,95  €', 'promotional': '30,35...</td>\n      <td>[27.5, 28, 28.5, 29.5, 30, 31, 31.5, 32, 33, 3...</td>\n      <td>nike-performance-revolution-5-chaussures-de-ru...</td>\n      <td>[{'path': 'spp-media-p1/ef91b309eef63df2966125...</td>\n      <td>Nike Performance</td>\n      <td>False</td>\n      <td>[{'sku': 'N1243A113-Q11', 'url_key': 'nike-per...</td>\n      <td>[{'key': 'discountRate', 'value': '-20%', 'tra...</td>\n      <td>shoe</td>\n      <td>[]</td>\n      <td>171 g</td>\n      <td>NaN</td>\n      <td>37.95</td>\n      <td>30.35</td>\n      <td>7.6</td>\n    </tr>\n    <tr>\n      <th>JAN24B004-Q11</th>\n      <td>Pantalon cargo - black</td>\n      <td>{'original': '49,95  €', 'promotional': '34,95...</td>\n      <td>[8a, 9a, 10a, 11a, 12a, 13a, 14a, 15a, 16a]</td>\n      <td>jackandjones-junior-pantalon-cargo-black-jan24...</td>\n      <td>[{'path': 'spp-media-p1/6272154bdaec3231bf44b9...</td>\n      <td>Jack &amp; Jones Junior</td>\n      <td>False</td>\n      <td>[{'sku': 'JAN24B004-Q11', 'url_key': 'jackandj...</td>\n      <td>[{'key': 'discountRate', 'value': '-30%', 'tra...</td>\n      <td>clothing</td>\n      <td>[]</td>\n      <td>NaN</td>\n      <td>NaN</td>\n      <td>49.95</td>\n      <td>34.95</td>\n      <td>15.0</td>\n    </tr>\n  </tbody>\n</table>\n</div>"
     },
     "metadata": {},
     "execution_count": 25
    }
   ],
   "source": [
    "# check if the DataFrame and the index were successfully loaded\n",
    "zalando2.head(5)"
   ]
  },
  {
   "cell_type": "markdown",
   "metadata": {},
   "source": [
    "#### Display the trending brand in DataFrame"
   ]
  },
  {
   "cell_type": "code",
   "execution_count": 13,
   "metadata": {},
   "outputs": [
    {
     "output_type": "execute_result",
     "data": {
      "text/plain": [
       "brand_name\n",
       "Nike Sportswear    2216\n",
       "Name: name, dtype: int64"
      ]
     },
     "metadata": {},
     "execution_count": 13
    }
   ],
   "source": [
    "# check the number of articles by brand\n",
    "zalando2.groupby('brand_name')['name'].count().nlargest(1)"
   ]
  },
  {
   "cell_type": "markdown",
   "metadata": {},
   "source": [
    "#### Display the brand with maximal total discount (sum of discounts on all goods)"
   ]
  },
  {
   "cell_type": "code",
   "execution_count": 15,
   "metadata": {},
   "outputs": [],
   "source": [
    "# create a column for original prices by obtaining the key original and replacing spaces and € symbol\n",
    "zalando2['original_price'] = zalando2['price'].apply(lambda x: x['original']).replace(to_replace='\\s{1,}\\W', value='', regex=True)"
   ]
  },
  {
   "cell_type": "code",
   "execution_count": 16,
   "metadata": {},
   "outputs": [],
   "source": [
    "# from the str, change the ',' for the '.' to be able to convert it to float\n",
    "zalando2['original_price'] = zalando2['original_price'].replace(to_replace=',', value='.', regex=True)"
   ]
  },
  {
   "cell_type": "code",
   "execution_count": 17,
   "metadata": {},
   "outputs": [],
   "source": [
    "# convert to float\n",
    "zalando2['original_price'] = zalando2['original_price'].apply(lambda x: float(x))"
   ]
  },
  {
   "cell_type": "code",
   "execution_count": 18,
   "metadata": {},
   "outputs": [],
   "source": [
    "# create a column for promo prices by obtaining the key original and replacing spaces and € symbol\n",
    "zalando2['promo_price'] = zalando2['price'].apply(lambda x: x['promotional']).replace(to_replace='\\s{1,}\\W', value='', regex=True)"
   ]
  },
  {
   "cell_type": "code",
   "execution_count": 19,
   "metadata": {},
   "outputs": [],
   "source": [
    "# from the str, change the ',' for the '.' to be able to convert it to float\n",
    "zalando2['promo_price'] = zalando2['promo_price'].replace(to_replace=',', value='.', regex=True)"
   ]
  },
  {
   "cell_type": "code",
   "execution_count": 20,
   "metadata": {},
   "outputs": [],
   "source": [
    "# convert to float\n",
    "zalando2['promo_price'] = zalando2['promo_price'].apply(lambda x: float(x))"
   ]
  },
  {
   "cell_type": "code",
   "execution_count": 21,
   "metadata": {},
   "outputs": [],
   "source": [
    "# create a column for discount by subtracting original price minus promo price\n",
    "zalando2['discount'] = zalando2['original_price'] - zalando2['promo_price']"
   ]
  },
  {
   "cell_type": "code",
   "execution_count": 22,
   "metadata": {},
   "outputs": [
    {
     "output_type": "execute_result",
     "data": {
      "text/plain": [
       "brand_name\n",
       "Nike Sportswear    23672.74\n",
       "Name: discount, dtype: float64"
      ]
     },
     "metadata": {},
     "execution_count": 22
    }
   ],
   "source": [
    "# check the brand with most acumulated discount\n",
    "zalando2.groupby('brand_name')['discount'].sum().nlargest(1)"
   ]
  },
  {
   "cell_type": "markdown",
   "metadata": {},
   "source": [
    "#### Display the brands without discount at all"
   ]
  },
  {
   "cell_type": "code",
   "execution_count": 23,
   "metadata": {},
   "outputs": [],
   "source": [
    "# create a new DataFrame with acumulated discount\n",
    "zalando_disc = pd.DataFrame(zalando2.groupby('brand_name')['discount'].sum())"
   ]
  },
  {
   "cell_type": "code",
   "execution_count": 24,
   "metadata": {},
   "outputs": [
    {
     "output_type": "execute_result",
     "data": {
      "text/plain": [
       "Empty DataFrame\n",
       "Columns: [discount]\n",
       "Index: []"
      ],
      "text/html": "<div>\n<style scoped>\n    .dataframe tbody tr th:only-of-type {\n        vertical-align: middle;\n    }\n\n    .dataframe tbody tr th {\n        vertical-align: top;\n    }\n\n    .dataframe thead th {\n        text-align: right;\n    }\n</style>\n<table border=\"1\" class=\"dataframe\">\n  <thead>\n    <tr style=\"text-align: right;\">\n      <th></th>\n      <th>discount</th>\n    </tr>\n    <tr>\n      <th>brand_name</th>\n      <th></th>\n    </tr>\n  </thead>\n  <tbody>\n  </tbody>\n</table>\n</div>"
     },
     "metadata": {},
     "execution_count": 24
    }
   ],
   "source": [
    "# check if there is a discount equal to 0\n",
    "zalando_disc[zalando_disc['discount']==0]"
   ]
  }
 ],
 "metadata": {
  "kernelspec": {
   "display_name": "Python 3",
   "language": "python",
   "name": "python3"
  },
  "toc": {
   "base_numbering": 1,
   "nav_menu": {},
   "number_sections": true,
   "sideBar": true,
   "skip_h1_title": false,
   "title_cell": "Table of Contents",
   "title_sidebar": "Contents",
   "toc_cell": false,
   "toc_position": {},
   "toc_section_display": true,
   "toc_window_display": false
  },
  "varInspector": {
   "cols": {
    "lenName": 16,
    "lenType": 16,
    "lenVar": 40
   },
   "kernels_config": {
    "python": {
     "delete_cmd_postfix": "",
     "delete_cmd_prefix": "del ",
     "library": "var_list.py",
     "varRefreshCmd": "print(var_dic_list())"
    },
    "r": {
     "delete_cmd_postfix": ") ",
     "delete_cmd_prefix": "rm(",
     "library": "var_list.r",
     "varRefreshCmd": "cat(var_dic_list()) "
    }
   },
   "types_to_exclude": [
    "module",
    "function",
    "builtin_function_or_method",
    "instance",
    "_Feature"
   ],
   "window_display": false
  }
 },
 "nbformat": 4,
 "nbformat_minor": 2
}