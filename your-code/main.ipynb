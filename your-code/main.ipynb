{
 "cells": [
  {
   "cell_type": "markdown",
   "metadata": {},
   "source": [
    "# Challenge: Promotions\n",
    "\n",
    "In this challenge, you'll develop codes to parse and analyze data returned from another API on Zalando such as [Promos homme (Men's Promotions)\n",
    "](https://www.zalando.fr/promo-homme/) or [Promos femme (Women's Promotions)](https://www.zalando.fr/promo-femme/). The workflow is almost the same as in the guided lesson but you'll work with different data."
   ]
  },
  {
   "cell_type": "markdown",
   "metadata": {},
   "source": [
    "## Obtaining the link\n",
    "\n",
    "Wrote your codes in the cell below to obtain the data from the API endpoint you choose. A recap of the workflow:\n",
    "\n",
    "1. Examine the webpages and choose one that you want to work with.\n",
    "\n",
    "1. Use Google Chrome's DevTools to inspect the XHR network requests. Find out the API endpoint that serves data to the webpage.\n",
    "\n",
    "1. Test the API endpoint in the browser to verify its data.\n",
    "\n",
    "1. Change the page number offset of the API URL to test if it's working."
   ]
  },
  {
   "cell_type": "code",
   "execution_count": 1,
   "metadata": {},
   "outputs": [],
   "source": [
    "import requests\n",
    "import pandas as pd\n",
    "import json"
   ]
  },
  {
   "cell_type": "code",
   "execution_count": 17,
   "metadata": {},
   "outputs": [],
   "source": [
    "# paste the url you obtained for your data\n",
    "url = 'https://www.zalando.fr/api/catalog/articles?categories=promo-homme&limit=84&offset=0'"
   ]
  },
  {
   "cell_type": "code",
   "execution_count": 18,
   "metadata": {},
   "outputs": [],
   "source": [
    "# create the headers with the User Agent in order to be able to do the requests.get\n",
    "headers = {'User-Agent' : 'Mozilla/5.0 (Windows NT 10.0; Win64; x64; rv:87.0) Gecko/20100101 Firefox/87.0'}"
   ]
  },
  {
   "cell_type": "code",
   "execution_count": 19,
   "metadata": {
    "collapsed": true
   },
   "outputs": [],
   "source": [
    "# encapsulate the information\n",
    "zalando = requests.get(url, headers=headers).json()"
   ]
  },
  {
   "cell_type": "code",
   "execution_count": 20,
   "metadata": {},
   "outputs": [],
   "source": [
    "# create a DataFrame with the articles\n",
    "zal_articles = pd.DataFrame(zalando['articles'])"
   ]
  },
  {
   "cell_type": "code",
   "execution_count": 21,
   "metadata": {},
   "outputs": [
    {
     "output_type": "execute_result",
     "data": {
      "text/plain": [
       "             sku                                             name  \\\n",
       "0  VA222O03F-C12               T-shirt basique - athletic heather   \n",
       "1  VA215O02L-Q11     COMFYCUSH OLD SKOOL - Baskets basses - black   \n",
       "2  C7642E05D-K11                  BERMUDA - Short de sport - navy   \n",
       "3  PI922O0GU-K11  5 PACK - T-shirt basique - dark blue/grey/khaki   \n",
       "4  TO122O08I-Q11               LOGO TEE - T-shirt imprimé - black   \n",
       "\n",
       "                                               price  \\\n",
       "0  {'original': '20,00  €', 'promotional': '14,00...   \n",
       "1  {'original': '85,00  €', 'promotional': '59,50...   \n",
       "2  {'original': '29,95  €', 'promotional': '25,55...   \n",
       "3  {'original': '29,99  €', 'promotional': '26,99...   \n",
       "4  {'original': '39,95  €', 'promotional': '29,95...   \n",
       "\n",
       "                                               sizes  \\\n",
       "0                             [XS, S, M, L, XL, XXL]   \n",
       "1  [34.5, 35, 36.5, 37, 38, 39, 40, 40.5, 41, 42,...   \n",
       "2                                 [S, M, L, XL, XXL]   \n",
       "3         [XS, S, M, L, XL, XXL, 3XL, 4XL, 5XL, 6XL]   \n",
       "4                        [XS, S, M, L, XL, XXL, 3XL]   \n",
       "\n",
       "                                             url_key  \\\n",
       "0  vans-left-chest-logo-tee-t-shirt-basique-va222...   \n",
       "1            vans-baskets-basses-black-va215o02l-q11   \n",
       "2  champion-bermuda-short-de-sport-navy-c7642e05d...   \n",
       "3  pier-one-5-pack-t-shirt-basique-dark-bluegreyk...   \n",
       "4  tommy-hilfiger-logo-tee-t-shirt-imprime-to122o...   \n",
       "\n",
       "                                               media      brand_name  \\\n",
       "0  [{'path': 'spp-media-p1/37e898a8bf8c3eefa65b25...            Vans   \n",
       "1  [{'path': 'spp-media-p1/68afc439d58734ffb24dcf...            Vans   \n",
       "2  [{'path': 'spp-media-p1/acc1338f1191408fb05a92...        Champion   \n",
       "3  [{'path': 'spp-media-p1/77c420d19d293a3ba68a1f...        Pier One   \n",
       "4  [{'path': 'spp-media-p1/6a1582f6fde836a5917156...  Tommy Hilfiger   \n",
       "\n",
       "   is_premium                                    family_articles  \\\n",
       "0       False  [{'sku': 'VA222O03F-C12', 'url_key': 'vans-lef...   \n",
       "1       False  [{'sku': 'VA215O02L-Q11', 'url_key': 'vans-bas...   \n",
       "2       False  [{'sku': 'C7642E05D-K11', 'url_key': 'champion...   \n",
       "3       False  [{'sku': 'PI922O0GU-K11', 'url_key': 'pier-one...   \n",
       "4       False  [{'sku': 'TO122O08I-Q11', 'url_key': 'tommy-hi...   \n",
       "\n",
       "                                               flags  \\\n",
       "0  [{'key': 'discountRate', 'value': '-30%', 'tra...   \n",
       "1  [{'key': 'discountRate', 'value': 'Jusqu’à -30...   \n",
       "2  [{'key': 'discountRate', 'value': '-15%', 'tra...   \n",
       "3  [{'key': 'discountRate', 'value': '-10%', 'tra...   \n",
       "4  [{'key': 'discountRate', 'value': '-25%', 'tra...   \n",
       "\n",
       "                                tracking_information product_group  \\\n",
       "0  {'metrigo_impression_urls': ['https://ccp-et.a...      clothing   \n",
       "1  {'metrigo_impression_urls': ['https://ccp-et.a...          shoe   \n",
       "2  {'metrigo_impression_urls': ['https://ccp-et.a...      clothing   \n",
       "3                                                NaN      clothing   \n",
       "4                                                NaN      clothing   \n",
       "\n",
       "  delivery_promises amount outfits  \n",
       "0                []    NaN     NaN  \n",
       "1                []    NaN     NaN  \n",
       "2                []    NaN     NaN  \n",
       "3                []    NaN     NaN  \n",
       "4                []    NaN     NaN  "
      ],
      "text/html": "<div>\n<style scoped>\n    .dataframe tbody tr th:only-of-type {\n        vertical-align: middle;\n    }\n\n    .dataframe tbody tr th {\n        vertical-align: top;\n    }\n\n    .dataframe thead th {\n        text-align: right;\n    }\n</style>\n<table border=\"1\" class=\"dataframe\">\n  <thead>\n    <tr style=\"text-align: right;\">\n      <th></th>\n      <th>sku</th>\n      <th>name</th>\n      <th>price</th>\n      <th>sizes</th>\n      <th>url_key</th>\n      <th>media</th>\n      <th>brand_name</th>\n      <th>is_premium</th>\n      <th>family_articles</th>\n      <th>flags</th>\n      <th>tracking_information</th>\n      <th>product_group</th>\n      <th>delivery_promises</th>\n      <th>amount</th>\n      <th>outfits</th>\n    </tr>\n  </thead>\n  <tbody>\n    <tr>\n      <th>0</th>\n      <td>VA222O03F-C12</td>\n      <td>T-shirt basique - athletic heather</td>\n      <td>{'original': '20,00  €', 'promotional': '14,00...</td>\n      <td>[XS, S, M, L, XL, XXL]</td>\n      <td>vans-left-chest-logo-tee-t-shirt-basique-va222...</td>\n      <td>[{'path': 'spp-media-p1/37e898a8bf8c3eefa65b25...</td>\n      <td>Vans</td>\n      <td>False</td>\n      <td>[{'sku': 'VA222O03F-C12', 'url_key': 'vans-lef...</td>\n      <td>[{'key': 'discountRate', 'value': '-30%', 'tra...</td>\n      <td>{'metrigo_impression_urls': ['https://ccp-et.a...</td>\n      <td>clothing</td>\n      <td>[]</td>\n      <td>NaN</td>\n      <td>NaN</td>\n    </tr>\n    <tr>\n      <th>1</th>\n      <td>VA215O02L-Q11</td>\n      <td>COMFYCUSH OLD SKOOL - Baskets basses - black</td>\n      <td>{'original': '85,00  €', 'promotional': '59,50...</td>\n      <td>[34.5, 35, 36.5, 37, 38, 39, 40, 40.5, 41, 42,...</td>\n      <td>vans-baskets-basses-black-va215o02l-q11</td>\n      <td>[{'path': 'spp-media-p1/68afc439d58734ffb24dcf...</td>\n      <td>Vans</td>\n      <td>False</td>\n      <td>[{'sku': 'VA215O02L-Q11', 'url_key': 'vans-bas...</td>\n      <td>[{'key': 'discountRate', 'value': 'Jusqu’à -30...</td>\n      <td>{'metrigo_impression_urls': ['https://ccp-et.a...</td>\n      <td>shoe</td>\n      <td>[]</td>\n      <td>NaN</td>\n      <td>NaN</td>\n    </tr>\n    <tr>\n      <th>2</th>\n      <td>C7642E05D-K11</td>\n      <td>BERMUDA - Short de sport - navy</td>\n      <td>{'original': '29,95  €', 'promotional': '25,55...</td>\n      <td>[S, M, L, XL, XXL]</td>\n      <td>champion-bermuda-short-de-sport-navy-c7642e05d...</td>\n      <td>[{'path': 'spp-media-p1/acc1338f1191408fb05a92...</td>\n      <td>Champion</td>\n      <td>False</td>\n      <td>[{'sku': 'C7642E05D-K11', 'url_key': 'champion...</td>\n      <td>[{'key': 'discountRate', 'value': '-15%', 'tra...</td>\n      <td>{'metrigo_impression_urls': ['https://ccp-et.a...</td>\n      <td>clothing</td>\n      <td>[]</td>\n      <td>NaN</td>\n      <td>NaN</td>\n    </tr>\n    <tr>\n      <th>3</th>\n      <td>PI922O0GU-K11</td>\n      <td>5 PACK - T-shirt basique - dark blue/grey/khaki</td>\n      <td>{'original': '29,99  €', 'promotional': '26,99...</td>\n      <td>[XS, S, M, L, XL, XXL, 3XL, 4XL, 5XL, 6XL]</td>\n      <td>pier-one-5-pack-t-shirt-basique-dark-bluegreyk...</td>\n      <td>[{'path': 'spp-media-p1/77c420d19d293a3ba68a1f...</td>\n      <td>Pier One</td>\n      <td>False</td>\n      <td>[{'sku': 'PI922O0GU-K11', 'url_key': 'pier-one...</td>\n      <td>[{'key': 'discountRate', 'value': '-10%', 'tra...</td>\n      <td>NaN</td>\n      <td>clothing</td>\n      <td>[]</td>\n      <td>NaN</td>\n      <td>NaN</td>\n    </tr>\n    <tr>\n      <th>4</th>\n      <td>TO122O08I-Q11</td>\n      <td>LOGO TEE - T-shirt imprimé - black</td>\n      <td>{'original': '39,95  €', 'promotional': '29,95...</td>\n      <td>[XS, S, M, L, XL, XXL, 3XL]</td>\n      <td>tommy-hilfiger-logo-tee-t-shirt-imprime-to122o...</td>\n      <td>[{'path': 'spp-media-p1/6a1582f6fde836a5917156...</td>\n      <td>Tommy Hilfiger</td>\n      <td>False</td>\n      <td>[{'sku': 'TO122O08I-Q11', 'url_key': 'tommy-hi...</td>\n      <td>[{'key': 'discountRate', 'value': '-25%', 'tra...</td>\n      <td>NaN</td>\n      <td>clothing</td>\n      <td>[]</td>\n      <td>NaN</td>\n      <td>NaN</td>\n    </tr>\n  </tbody>\n</table>\n</div>"
     },
     "metadata": {},
     "execution_count": 21
    }
   ],
   "source": [
    "# check the DataFrame\n",
    "zal_articles.head(5)"
   ]
  },
  {
   "cell_type": "code",
   "execution_count": 22,
   "metadata": {},
   "outputs": [],
   "source": [
    "# encapsulate the information with a new offset\n",
    "zalando1 = requests.get(url, params={'offset': '84'}, headers=headers).json()"
   ]
  },
  {
   "cell_type": "code",
   "execution_count": 23,
   "metadata": {},
   "outputs": [],
   "source": [
    "# create a DataFrame with the articles\n",
    "zal_articles1 = pd.DataFrame(zalando1['articles'])"
   ]
  },
  {
   "cell_type": "code",
   "execution_count": 24,
   "metadata": {},
   "outputs": [
    {
     "output_type": "execute_result",
     "data": {
      "text/plain": [
       "             sku                                             name  \\\n",
       "0  NER22O000-T11             TEE 5 PACK - T-shirt basique - multi   \n",
       "1  VA222O03F-C12               T-shirt basique - athletic heather   \n",
       "2  VA215O02L-Q11     COMFYCUSH OLD SKOOL - Baskets basses - black   \n",
       "3  PI922O0GU-K11  5 PACK - T-shirt basique - dark blue/grey/khaki   \n",
       "4  TO122O08I-Q11               LOGO TEE - T-shirt imprimé - black   \n",
       "\n",
       "                                               price  \\\n",
       "0  {'original': '31,95  €', 'promotional': '28,75...   \n",
       "1  {'original': '20,00  €', 'promotional': '14,00...   \n",
       "2  {'original': '85,00  €', 'promotional': '59,50...   \n",
       "3  {'original': '29,99  €', 'promotional': '26,99...   \n",
       "4  {'original': '39,95  €', 'promotional': '29,95...   \n",
       "\n",
       "                                               sizes  \\\n",
       "0                             [XS, S, M, L, XL, XXL]   \n",
       "1                             [XS, S, M, L, XL, XXL]   \n",
       "2  [34.5, 35, 36.5, 37, 38, 39, 40, 40.5, 41, 42,...   \n",
       "3         [XS, S, M, L, XL, XXL, 3XL, 4XL, 5XL, 6XL]   \n",
       "4                        [XS, S, M, L, XL, XXL, 3XL]   \n",
       "\n",
       "                                             url_key  \\\n",
       "0  newport-bay-sailing-club-newport-multi-tee-5-p...   \n",
       "1  vans-left-chest-logo-tee-t-shirt-basique-va222...   \n",
       "2            vans-baskets-basses-black-va215o02l-q11   \n",
       "3  pier-one-5-pack-t-shirt-basique-dark-bluegreyk...   \n",
       "4  tommy-hilfiger-logo-tee-t-shirt-imprime-to122o...   \n",
       "\n",
       "                                               media  \\\n",
       "0  [{'path': 'spp-media-p1/c3f10ffe878c337aa98cbc...   \n",
       "1  [{'path': 'spp-media-p1/37e898a8bf8c3eefa65b25...   \n",
       "2  [{'path': 'spp-media-p1/68afc439d58734ffb24dcf...   \n",
       "3  [{'path': 'spp-media-p1/77c420d19d293a3ba68a1f...   \n",
       "4  [{'path': 'spp-media-p1/6a1582f6fde836a5917156...   \n",
       "\n",
       "                 brand_name  is_premium  \\\n",
       "0  Newport Bay Sailing Club       False   \n",
       "1                      Vans       False   \n",
       "2                      Vans       False   \n",
       "3                  Pier One       False   \n",
       "4            Tommy Hilfiger       False   \n",
       "\n",
       "                                     family_articles  \\\n",
       "0  [{'sku': 'NER22O000-T11', 'url_key': 'newport-...   \n",
       "1  [{'sku': 'VA222O03F-C12', 'url_key': 'vans-lef...   \n",
       "2  [{'sku': 'VA215O02L-Q11', 'url_key': 'vans-bas...   \n",
       "3  [{'sku': 'PI922O0GU-K11', 'url_key': 'pier-one...   \n",
       "4  [{'sku': 'TO122O08I-Q11', 'url_key': 'tommy-hi...   \n",
       "\n",
       "                                               flags  \\\n",
       "0  [{'key': 'discountRate', 'value': '-10%', 'tra...   \n",
       "1  [{'key': 'discountRate', 'value': '-30%', 'tra...   \n",
       "2  [{'key': 'discountRate', 'value': 'Jusqu’à -30...   \n",
       "3  [{'key': 'discountRate', 'value': '-10%', 'tra...   \n",
       "4  [{'key': 'discountRate', 'value': '-25%', 'tra...   \n",
       "\n",
       "                                tracking_information product_group  \\\n",
       "0  {'metrigo_impression_urls': ['https://ccp-et.a...      clothing   \n",
       "1  {'metrigo_impression_urls': ['https://ccp-et.a...      clothing   \n",
       "2  {'metrigo_impression_urls': ['https://ccp-et.a...          shoe   \n",
       "3                                                NaN      clothing   \n",
       "4                                                NaN      clothing   \n",
       "\n",
       "  delivery_promises amount outfits  \n",
       "0                []    NaN     NaN  \n",
       "1                []    NaN     NaN  \n",
       "2                []    NaN     NaN  \n",
       "3                []    NaN     NaN  \n",
       "4                []    NaN     NaN  "
      ],
      "text/html": "<div>\n<style scoped>\n    .dataframe tbody tr th:only-of-type {\n        vertical-align: middle;\n    }\n\n    .dataframe tbody tr th {\n        vertical-align: top;\n    }\n\n    .dataframe thead th {\n        text-align: right;\n    }\n</style>\n<table border=\"1\" class=\"dataframe\">\n  <thead>\n    <tr style=\"text-align: right;\">\n      <th></th>\n      <th>sku</th>\n      <th>name</th>\n      <th>price</th>\n      <th>sizes</th>\n      <th>url_key</th>\n      <th>media</th>\n      <th>brand_name</th>\n      <th>is_premium</th>\n      <th>family_articles</th>\n      <th>flags</th>\n      <th>tracking_information</th>\n      <th>product_group</th>\n      <th>delivery_promises</th>\n      <th>amount</th>\n      <th>outfits</th>\n    </tr>\n  </thead>\n  <tbody>\n    <tr>\n      <th>0</th>\n      <td>NER22O000-T11</td>\n      <td>TEE 5 PACK - T-shirt basique - multi</td>\n      <td>{'original': '31,95  €', 'promotional': '28,75...</td>\n      <td>[XS, S, M, L, XL, XXL]</td>\n      <td>newport-bay-sailing-club-newport-multi-tee-5-p...</td>\n      <td>[{'path': 'spp-media-p1/c3f10ffe878c337aa98cbc...</td>\n      <td>Newport Bay Sailing Club</td>\n      <td>False</td>\n      <td>[{'sku': 'NER22O000-T11', 'url_key': 'newport-...</td>\n      <td>[{'key': 'discountRate', 'value': '-10%', 'tra...</td>\n      <td>{'metrigo_impression_urls': ['https://ccp-et.a...</td>\n      <td>clothing</td>\n      <td>[]</td>\n      <td>NaN</td>\n      <td>NaN</td>\n    </tr>\n    <tr>\n      <th>1</th>\n      <td>VA222O03F-C12</td>\n      <td>T-shirt basique - athletic heather</td>\n      <td>{'original': '20,00  €', 'promotional': '14,00...</td>\n      <td>[XS, S, M, L, XL, XXL]</td>\n      <td>vans-left-chest-logo-tee-t-shirt-basique-va222...</td>\n      <td>[{'path': 'spp-media-p1/37e898a8bf8c3eefa65b25...</td>\n      <td>Vans</td>\n      <td>False</td>\n      <td>[{'sku': 'VA222O03F-C12', 'url_key': 'vans-lef...</td>\n      <td>[{'key': 'discountRate', 'value': '-30%', 'tra...</td>\n      <td>{'metrigo_impression_urls': ['https://ccp-et.a...</td>\n      <td>clothing</td>\n      <td>[]</td>\n      <td>NaN</td>\n      <td>NaN</td>\n    </tr>\n    <tr>\n      <th>2</th>\n      <td>VA215O02L-Q11</td>\n      <td>COMFYCUSH OLD SKOOL - Baskets basses - black</td>\n      <td>{'original': '85,00  €', 'promotional': '59,50...</td>\n      <td>[34.5, 35, 36.5, 37, 38, 39, 40, 40.5, 41, 42,...</td>\n      <td>vans-baskets-basses-black-va215o02l-q11</td>\n      <td>[{'path': 'spp-media-p1/68afc439d58734ffb24dcf...</td>\n      <td>Vans</td>\n      <td>False</td>\n      <td>[{'sku': 'VA215O02L-Q11', 'url_key': 'vans-bas...</td>\n      <td>[{'key': 'discountRate', 'value': 'Jusqu’à -30...</td>\n      <td>{'metrigo_impression_urls': ['https://ccp-et.a...</td>\n      <td>shoe</td>\n      <td>[]</td>\n      <td>NaN</td>\n      <td>NaN</td>\n    </tr>\n    <tr>\n      <th>3</th>\n      <td>PI922O0GU-K11</td>\n      <td>5 PACK - T-shirt basique - dark blue/grey/khaki</td>\n      <td>{'original': '29,99  €', 'promotional': '26,99...</td>\n      <td>[XS, S, M, L, XL, XXL, 3XL, 4XL, 5XL, 6XL]</td>\n      <td>pier-one-5-pack-t-shirt-basique-dark-bluegreyk...</td>\n      <td>[{'path': 'spp-media-p1/77c420d19d293a3ba68a1f...</td>\n      <td>Pier One</td>\n      <td>False</td>\n      <td>[{'sku': 'PI922O0GU-K11', 'url_key': 'pier-one...</td>\n      <td>[{'key': 'discountRate', 'value': '-10%', 'tra...</td>\n      <td>NaN</td>\n      <td>clothing</td>\n      <td>[]</td>\n      <td>NaN</td>\n      <td>NaN</td>\n    </tr>\n    <tr>\n      <th>4</th>\n      <td>TO122O08I-Q11</td>\n      <td>LOGO TEE - T-shirt imprimé - black</td>\n      <td>{'original': '39,95  €', 'promotional': '29,95...</td>\n      <td>[XS, S, M, L, XL, XXL, 3XL]</td>\n      <td>tommy-hilfiger-logo-tee-t-shirt-imprime-to122o...</td>\n      <td>[{'path': 'spp-media-p1/6a1582f6fde836a5917156...</td>\n      <td>Tommy Hilfiger</td>\n      <td>False</td>\n      <td>[{'sku': 'TO122O08I-Q11', 'url_key': 'tommy-hi...</td>\n      <td>[{'key': 'discountRate', 'value': '-25%', 'tra...</td>\n      <td>NaN</td>\n      <td>clothing</td>\n      <td>[]</td>\n      <td>NaN</td>\n      <td>NaN</td>\n    </tr>\n  </tbody>\n</table>\n</div>"
     },
     "metadata": {},
     "execution_count": 24
    }
   ],
   "source": [
    "# check if the DataFrame has different articles than the previous one\n",
    "zal_articles1.head(5)"
   ]
  },
  {
   "cell_type": "markdown",
   "metadata": {},
   "source": [
    "## Reading the data\n",
    "\n",
    "In the next cell, use Python to obtain data from the API endpoint you chose in the previous step. Workflow:\n",
    "\n",
    "1. Import libraries.\n",
    "\n",
    "1. Define the initial API endpoint URL.\n",
    "\n",
    "1. Make request to obtain data of the 1st page. Flatten the data and store it in an empty object variable.\n",
    "\n",
    "1. Find out the total page count in the 1st page data.\n",
    "\n",
    "1. Use a FOR loop to make requests for the additional pages from 2 to page count. Append the data of each additional page to the flatterned data object.\n",
    "\n",
    "1. Print and review the data you obtained."
   ]
  },
  {
   "cell_type": "code",
   "execution_count": 29,
   "metadata": {
    "collapsed": true
   },
   "outputs": [],
   "source": [
    "# create a DataFrame with the articles of the first page\n",
    "promo_homme = zalando['articles']"
   ]
  },
  {
   "cell_type": "code",
   "execution_count": 30,
   "metadata": {},
   "outputs": [],
   "source": [
    "# to collect all the pages:\n",
    "# Step 1: make a for loop with a range of the total number of pages\n",
    "# Step 2: get the url of every page and obtain its articles and append them into the promo_homme list\n",
    "for i in range(2, zalando['pagination']['page_count'] + 1):\n",
    "    zalando_total = requests.get(url, headers=headers, params={'current_page':i}).json()\n",
    "    promo_homme.extend(zalando_total['articles'])"
   ]
  },
  {
   "cell_type": "code",
   "execution_count": 31,
   "metadata": {},
   "outputs": [
    {
     "output_type": "execute_result",
     "data": {
      "text/plain": [
       "74927"
      ]
     },
     "metadata": {},
     "execution_count": 31
    }
   ],
   "source": [
    "len(promo_homme)"
   ]
  },
  {
   "cell_type": "markdown",
   "metadata": {},
   "source": [
    "## Bonus\n",
    "\n",
    "Extract the following information from the data:\n",
    "\n",
    "* The trending brand.\n",
    "\n",
    "* The product(s) with the highest discount.\n",
    "\n",
    "* The sum of discounts of all goods (sum_discounted_prices divided by sum_original_prices)."
   ]
  },
  {
   "cell_type": "code",
   "execution_count": 33,
   "metadata": {},
   "outputs": [],
   "source": [
    "# create a dataframe with the articles of all pages\n",
    "zalando2 = pd.DataFrame(promo_homme)"
   ]
  },
  {
   "cell_type": "code",
   "execution_count": 34,
   "metadata": {
    "collapsed": true
   },
   "outputs": [
    {
     "output_type": "execute_result",
     "data": {
      "text/plain": [
       "brand_name\n",
       "Pier One    15918\n",
       "Name: name, dtype: int64"
      ]
     },
     "metadata": {},
     "execution_count": 34
    }
   ],
   "source": [
    "# check the number of articles by brand - Trending brand\n",
    "zalando2.groupby('brand_name')['name'].count().nlargest(1)"
   ]
  },
  {
   "cell_type": "code",
   "execution_count": 36,
   "metadata": {},
   "outputs": [],
   "source": [
    "# create a column for original prices by obtaining the key original and replacing spaces and € symbol\n",
    "zalando2['original_price'] = zalando2['price'].apply(lambda x: x['original']).replace(to_replace='\\s{1,}\\W', value='', regex=True)"
   ]
  },
  {
   "cell_type": "code",
   "execution_count": 37,
   "metadata": {},
   "outputs": [],
   "source": [
    "# from the str, change the ',' for the '.' to be able to convert it to float\n",
    "zalando2['original_price'] = zalando2['original_price'].replace(to_replace=',', value='.', regex=True)"
   ]
  },
  {
   "cell_type": "code",
   "execution_count": 38,
   "metadata": {},
   "outputs": [],
   "source": [
    "# convert to float\n",
    "zalando2['original_price'] = zalando2['original_price'].apply(lambda x: float(x))"
   ]
  },
  {
   "cell_type": "code",
   "execution_count": 39,
   "metadata": {},
   "outputs": [],
   "source": [
    "# create a column for promo prices by obtaining the key original and replacing spaces and € symbol\n",
    "zalando2['promo_price'] = zalando2['price'].apply(lambda x: x['promotional']).replace(to_replace='\\s{1,}\\W', value='', regex=True)"
   ]
  },
  {
   "cell_type": "code",
   "execution_count": 40,
   "metadata": {},
   "outputs": [],
   "source": [
    "# from the str, change the ',' for the '.' to be able to convert it to float\n",
    "zalando2['promo_price'] = zalando2['promo_price'].replace(to_replace=',', value='.', regex=True)"
   ]
  },
  {
   "cell_type": "code",
   "execution_count": 41,
   "metadata": {},
   "outputs": [],
   "source": [
    "# convert to float\n",
    "zalando2['promo_price'] = zalando2['promo_price'].apply(lambda x: float(x))"
   ]
  },
  {
   "cell_type": "code",
   "execution_count": 42,
   "metadata": {},
   "outputs": [],
   "source": [
    "# create a column for discount by subtracting original price minus promo price\n",
    "zalando2['discount'] = zalando2['original_price'] - zalando2['promo_price']"
   ]
  },
  {
   "cell_type": "code",
   "execution_count": 55,
   "metadata": {},
   "outputs": [
    {
     "output_type": "execute_result",
     "data": {
      "text/plain": [
       "                                                                       discount\n",
       "sku           name                                     brand_name              \n",
       "TO112C035-B11 CLASSIC PENNY LOAFER - Mocassins - beige Tommy Hilfiger      65.9"
      ],
      "text/html": "<div>\n<style scoped>\n    .dataframe tbody tr th:only-of-type {\n        vertical-align: middle;\n    }\n\n    .dataframe tbody tr th {\n        vertical-align: top;\n    }\n\n    .dataframe thead th {\n        text-align: right;\n    }\n</style>\n<table border=\"1\" class=\"dataframe\">\n  <thead>\n    <tr style=\"text-align: right;\">\n      <th></th>\n      <th></th>\n      <th></th>\n      <th>discount</th>\n    </tr>\n    <tr>\n      <th>sku</th>\n      <th>name</th>\n      <th>brand_name</th>\n      <th></th>\n    </tr>\n  </thead>\n  <tbody>\n    <tr>\n      <th>TO112C035-B11</th>\n      <th>CLASSIC PENNY LOAFER - Mocassins - beige</th>\n      <th>Tommy Hilfiger</th>\n      <td>65.9</td>\n    </tr>\n  </tbody>\n</table>\n</div>"
     },
     "metadata": {},
     "execution_count": 55
    }
   ],
   "source": [
    "# check the product with biggest discount (want to know name and brand)\n",
    "# I use .mean() as there are some products that appear more than once\n",
    "zalando2.groupby(['sku', 'name','brand_name'])[['discount']].mean().nlargest(1, 'discount')"
   ]
  },
  {
   "cell_type": "code",
   "execution_count": 56,
   "metadata": {},
   "outputs": [
    {
     "output_type": "execute_result",
     "data": {
      "text/plain": [
       "683042.4"
      ]
     },
     "metadata": {},
     "execution_count": 56
    }
   ],
   "source": [
    "# check the total sum of discount\n",
    "zalando2['discount'].sum()"
   ]
  }
 ],
 "metadata": {
  "kernelspec": {
   "display_name": "Python 3",
   "language": "python",
   "name": "python3"
  },
  "language_info": {
   "codemirror_mode": {
    "name": "ipython",
    "version": 3
   },
   "file_extension": ".py",
   "mimetype": "text/x-python",
   "name": "python",
   "nbconvert_exporter": "python",
   "pygments_lexer": "ipython3",
   "version": "3.8.3-final"
  }
 },
 "nbformat": 4,
 "nbformat_minor": 2
}